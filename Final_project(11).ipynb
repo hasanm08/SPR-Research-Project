{
  "nbformat": 4,
  "nbformat_minor": 0,
  "metadata": {
    "colab": {
      "name": "Final project.ipynb",
      "provenance": [],
      "collapsed_sections": []
    },
    "kernelspec": {
      "name": "python3",
      "display_name": "Python 3"
    },
    "language_info": {
      "name": "python"
    }
  },
  "cells": [
    {
      "cell_type": "markdown",
      "source": [
        "**Statistical Pattern Recognition Research Project**\n",
        "\n",
        "\n",
        "```\n",
        "Title: A Comparative Analysis of Logistic Regression,\n",
        "Random Forest and KNN Models for the Text Classification\n",
        "```\n",
        "[paper](https://link.springer.com/article/10.1007/s41133-020-00032-0)\n",
        "\n",
        "Group Number 5:\n",
        "\n",
        "*   Amirhassan Amirmahani\n",
        "*   Reyhaneh Keshavarzpour \n",
        "\n",
        "\n"
      ],
      "metadata": {
        "id": "Gm5RI5nJDYkg"
      }
    },
    {
      "cell_type": "markdown",
      "source": [
        "#Preprocessing"
      ],
      "metadata": {
        "id": "DmuOG3mPBQa4"
      }
    },
    {
      "cell_type": "markdown",
      "source": [
        "##Fetch Dataset"
      ],
      "metadata": {
        "id": "Gbl7C9oC_3e2"
      }
    },
    {
      "cell_type": "code",
      "source": [
        "!gdown --id 1eqPWW_VfKveBXdZauapLXhj1qLpD0jm7"
      ],
      "metadata": {
        "colab": {
          "base_uri": "https://localhost:8080/"
        },
        "id": "Ge0E618Z8q3h",
        "outputId": "c5bce38d-a96f-4e6e-a140-8515cbf72d27"
      },
      "execution_count": 1,
      "outputs": [
        {
          "output_type": "stream",
          "name": "stdout",
          "text": [
            "Downloading...\n",
            "From: https://drive.google.com/uc?id=1eqPWW_VfKveBXdZauapLXhj1qLpD0jm7\n",
            "To: /content/bbc-dataset.zip\n",
            "\r  0% 0.00/2.51M [00:00<?, ?B/s]\r100% 2.51M/2.51M [00:00<00:00, 132MB/s]\n"
          ]
        }
      ]
    },
    {
      "cell_type": "code",
      "source": [
        "!unzip /content/bbc-dataset.zip"
      ],
      "metadata": {
        "colab": {
          "base_uri": "https://localhost:8080/"
        },
        "id": "cR1sIR2T852V",
        "outputId": "bc0a4e97-d7b5-4eb4-fb0c-e6eafbb30028"
      },
      "execution_count": 2,
      "outputs": [
        {
          "output_type": "stream",
          "name": "stdout",
          "text": [
            "Archive:  /content/bbc-dataset.zip\n",
            "  inflating: BBC News Sample Solution.csv  \n",
            "  inflating: BBC News Test.csv       \n",
            "  inflating: BBC News Train.csv      \n",
            "  inflating: 780a281dcace4f7386a051c5c75232ea.pdf  \n"
          ]
        }
      ]
    },
    {
      "cell_type": "markdown",
      "source": [
        "##Import packages"
      ],
      "metadata": {
        "id": "H4cOEKKQ_8aq"
      }
    },
    {
      "cell_type": "code",
      "source": [
        "import re\n",
        "import nltk\n",
        "import warnings\n",
        "import numpy as np\n",
        "import pandas as pd\n",
        "import seaborn as sns\n",
        "import matplotlib.pyplot as plt\n",
        "from nltk.stem import PorterStemmer\n",
        "from sklearn.preprocessing import LabelEncoder\n",
        "from sklearn.model_selection import train_test_split\n",
        "from sklearn.feature_extraction.text import TfidfVectorizer"
      ],
      "metadata": {
        "id": "IC1RRknr9nP-"
      },
      "execution_count": 3,
      "outputs": []
    },
    {
      "cell_type": "code",
      "source": [
        "warnings.filterwarnings(\"ignore\")\n",
        "nltk.download('punkt')\n",
        "nltk.download('stopwords')\n",
        "nltk.download('wordnet')\n",
        "nltk.download('omw-1.4')"
      ],
      "metadata": {
        "colab": {
          "base_uri": "https://localhost:8080/"
        },
        "id": "-EmUKj7D9tDJ",
        "outputId": "1c3027df-8b0a-42e6-8b24-38cadbc60e82"
      },
      "execution_count": 4,
      "outputs": [
        {
          "output_type": "stream",
          "name": "stdout",
          "text": [
            "[nltk_data] Downloading package punkt to /root/nltk_data...\n",
            "[nltk_data]   Unzipping tokenizers/punkt.zip.\n",
            "[nltk_data] Downloading package stopwords to /root/nltk_data...\n",
            "[nltk_data]   Unzipping corpora/stopwords.zip.\n",
            "[nltk_data] Downloading package wordnet to /root/nltk_data...\n",
            "[nltk_data]   Unzipping corpora/wordnet.zip.\n",
            "[nltk_data] Downloading package omw-1.4 to /root/nltk_data...\n",
            "[nltk_data]   Unzipping corpora/omw-1.4.zip.\n"
          ]
        },
        {
          "output_type": "execute_result",
          "data": {
            "text/plain": [
              "True"
            ]
          },
          "metadata": {},
          "execution_count": 4
        }
      ]
    },
    {
      "cell_type": "markdown",
      "source": [
        "##Load dataset"
      ],
      "metadata": {
        "id": "Eu4HnEhnACPF"
      }
    },
    {
      "cell_type": "code",
      "source": [
        "def load(path,need_join=False):\n",
        "  print(f\"Load file: {path}\")\n",
        "  # Read data frame\n",
        "  df = pd.read_csv(path)\n",
        "  if(need_join):\n",
        "    all_df=pd.read_csv('/content/BBC News Sample Solution.csv')\n",
        "    df=df.join(all_df.set_index('ArticleId'),on='ArticleId')\n",
        "  display(df)\n",
        "\n",
        "  # Description of the dataset\n",
        "  print('SHAPE OF DATASET: ', df.shape, '\\n\\nCOLUMNS IN DATASET: ', df.columns, '\\n\\nCATEGORIES: ', df.Category.unique(), '\\n\\n')\n",
        "  return df"
      ],
      "metadata": {
        "id": "J5AHCHcV9ydJ"
      },
      "execution_count": 5,
      "outputs": []
    },
    {
      "cell_type": "code",
      "source": [
        "train_df=load('/content/BBC News Train.csv')\n",
        "test_df=load('/content/BBC News Test.csv',True)\n",
        "all_data=train_df.append(test_df, ignore_index=True)\n",
        "display(all_data)\n"
      ],
      "metadata": {
        "colab": {
          "base_uri": "https://localhost:8080/",
          "height": 1000
        },
        "id": "mPfeJu7M-pyu",
        "outputId": "905764bd-60bf-43b5-dc18-9469b44e56aa"
      },
      "execution_count": 6,
      "outputs": [
        {
          "output_type": "stream",
          "name": "stdout",
          "text": [
            "Load file: /content/BBC News Train.csv\n"
          ]
        },
        {
          "output_type": "display_data",
          "data": {
            "text/html": [
              "\n",
              "  <div id=\"df-fe0ee875-4829-47a1-90e9-d43255b5a3bd\">\n",
              "    <div class=\"colab-df-container\">\n",
              "      <div>\n",
              "<style scoped>\n",
              "    .dataframe tbody tr th:only-of-type {\n",
              "        vertical-align: middle;\n",
              "    }\n",
              "\n",
              "    .dataframe tbody tr th {\n",
              "        vertical-align: top;\n",
              "    }\n",
              "\n",
              "    .dataframe thead th {\n",
              "        text-align: right;\n",
              "    }\n",
              "</style>\n",
              "<table border=\"1\" class=\"dataframe\">\n",
              "  <thead>\n",
              "    <tr style=\"text-align: right;\">\n",
              "      <th></th>\n",
              "      <th>ArticleId</th>\n",
              "      <th>Text</th>\n",
              "      <th>Category</th>\n",
              "    </tr>\n",
              "  </thead>\n",
              "  <tbody>\n",
              "    <tr>\n",
              "      <th>0</th>\n",
              "      <td>1833</td>\n",
              "      <td>worldcom ex-boss launches defence lawyers defe...</td>\n",
              "      <td>business</td>\n",
              "    </tr>\n",
              "    <tr>\n",
              "      <th>1</th>\n",
              "      <td>154</td>\n",
              "      <td>german business confidence slides german busin...</td>\n",
              "      <td>business</td>\n",
              "    </tr>\n",
              "    <tr>\n",
              "      <th>2</th>\n",
              "      <td>1101</td>\n",
              "      <td>bbc poll indicates economic gloom citizens in ...</td>\n",
              "      <td>business</td>\n",
              "    </tr>\n",
              "    <tr>\n",
              "      <th>3</th>\n",
              "      <td>1976</td>\n",
              "      <td>lifestyle  governs mobile choice  faster  bett...</td>\n",
              "      <td>tech</td>\n",
              "    </tr>\n",
              "    <tr>\n",
              "      <th>4</th>\n",
              "      <td>917</td>\n",
              "      <td>enron bosses in $168m payout eighteen former e...</td>\n",
              "      <td>business</td>\n",
              "    </tr>\n",
              "    <tr>\n",
              "      <th>...</th>\n",
              "      <td>...</td>\n",
              "      <td>...</td>\n",
              "      <td>...</td>\n",
              "    </tr>\n",
              "    <tr>\n",
              "      <th>1485</th>\n",
              "      <td>857</td>\n",
              "      <td>double eviction from big brother model caprice...</td>\n",
              "      <td>entertainment</td>\n",
              "    </tr>\n",
              "    <tr>\n",
              "      <th>1486</th>\n",
              "      <td>325</td>\n",
              "      <td>dj double act revamp chart show dj duo jk and ...</td>\n",
              "      <td>entertainment</td>\n",
              "    </tr>\n",
              "    <tr>\n",
              "      <th>1487</th>\n",
              "      <td>1590</td>\n",
              "      <td>weak dollar hits reuters revenues at media gro...</td>\n",
              "      <td>business</td>\n",
              "    </tr>\n",
              "    <tr>\n",
              "      <th>1488</th>\n",
              "      <td>1587</td>\n",
              "      <td>apple ipod family expands market apple has exp...</td>\n",
              "      <td>tech</td>\n",
              "    </tr>\n",
              "    <tr>\n",
              "      <th>1489</th>\n",
              "      <td>538</td>\n",
              "      <td>santy worm makes unwelcome visit thousands of ...</td>\n",
              "      <td>tech</td>\n",
              "    </tr>\n",
              "  </tbody>\n",
              "</table>\n",
              "<p>1490 rows × 3 columns</p>\n",
              "</div>\n",
              "      <button class=\"colab-df-convert\" onclick=\"convertToInteractive('df-fe0ee875-4829-47a1-90e9-d43255b5a3bd')\"\n",
              "              title=\"Convert this dataframe to an interactive table.\"\n",
              "              style=\"display:none;\">\n",
              "        \n",
              "  <svg xmlns=\"http://www.w3.org/2000/svg\" height=\"24px\"viewBox=\"0 0 24 24\"\n",
              "       width=\"24px\">\n",
              "    <path d=\"M0 0h24v24H0V0z\" fill=\"none\"/>\n",
              "    <path d=\"M18.56 5.44l.94 2.06.94-2.06 2.06-.94-2.06-.94-.94-2.06-.94 2.06-2.06.94zm-11 1L8.5 8.5l.94-2.06 2.06-.94-2.06-.94L8.5 2.5l-.94 2.06-2.06.94zm10 10l.94 2.06.94-2.06 2.06-.94-2.06-.94-.94-2.06-.94 2.06-2.06.94z\"/><path d=\"M17.41 7.96l-1.37-1.37c-.4-.4-.92-.59-1.43-.59-.52 0-1.04.2-1.43.59L10.3 9.45l-7.72 7.72c-.78.78-.78 2.05 0 2.83L4 21.41c.39.39.9.59 1.41.59.51 0 1.02-.2 1.41-.59l7.78-7.78 2.81-2.81c.8-.78.8-2.07 0-2.86zM5.41 20L4 18.59l7.72-7.72 1.47 1.35L5.41 20z\"/>\n",
              "  </svg>\n",
              "      </button>\n",
              "      \n",
              "  <style>\n",
              "    .colab-df-container {\n",
              "      display:flex;\n",
              "      flex-wrap:wrap;\n",
              "      gap: 12px;\n",
              "    }\n",
              "\n",
              "    .colab-df-convert {\n",
              "      background-color: #E8F0FE;\n",
              "      border: none;\n",
              "      border-radius: 50%;\n",
              "      cursor: pointer;\n",
              "      display: none;\n",
              "      fill: #1967D2;\n",
              "      height: 32px;\n",
              "      padding: 0 0 0 0;\n",
              "      width: 32px;\n",
              "    }\n",
              "\n",
              "    .colab-df-convert:hover {\n",
              "      background-color: #E2EBFA;\n",
              "      box-shadow: 0px 1px 2px rgba(60, 64, 67, 0.3), 0px 1px 3px 1px rgba(60, 64, 67, 0.15);\n",
              "      fill: #174EA6;\n",
              "    }\n",
              "\n",
              "    [theme=dark] .colab-df-convert {\n",
              "      background-color: #3B4455;\n",
              "      fill: #D2E3FC;\n",
              "    }\n",
              "\n",
              "    [theme=dark] .colab-df-convert:hover {\n",
              "      background-color: #434B5C;\n",
              "      box-shadow: 0px 1px 3px 1px rgba(0, 0, 0, 0.15);\n",
              "      filter: drop-shadow(0px 1px 2px rgba(0, 0, 0, 0.3));\n",
              "      fill: #FFFFFF;\n",
              "    }\n",
              "  </style>\n",
              "\n",
              "      <script>\n",
              "        const buttonEl =\n",
              "          document.querySelector('#df-fe0ee875-4829-47a1-90e9-d43255b5a3bd button.colab-df-convert');\n",
              "        buttonEl.style.display =\n",
              "          google.colab.kernel.accessAllowed ? 'block' : 'none';\n",
              "\n",
              "        async function convertToInteractive(key) {\n",
              "          const element = document.querySelector('#df-fe0ee875-4829-47a1-90e9-d43255b5a3bd');\n",
              "          const dataTable =\n",
              "            await google.colab.kernel.invokeFunction('convertToInteractive',\n",
              "                                                     [key], {});\n",
              "          if (!dataTable) return;\n",
              "\n",
              "          const docLinkHtml = 'Like what you see? Visit the ' +\n",
              "            '<a target=\"_blank\" href=https://colab.research.google.com/notebooks/data_table.ipynb>data table notebook</a>'\n",
              "            + ' to learn more about interactive tables.';\n",
              "          element.innerHTML = '';\n",
              "          dataTable['output_type'] = 'display_data';\n",
              "          await google.colab.output.renderOutput(dataTable, element);\n",
              "          const docLink = document.createElement('div');\n",
              "          docLink.innerHTML = docLinkHtml;\n",
              "          element.appendChild(docLink);\n",
              "        }\n",
              "      </script>\n",
              "    </div>\n",
              "  </div>\n",
              "  "
            ],
            "text/plain": [
              "      ArticleId  ...       Category\n",
              "0          1833  ...       business\n",
              "1           154  ...       business\n",
              "2          1101  ...       business\n",
              "3          1976  ...           tech\n",
              "4           917  ...       business\n",
              "...         ...  ...            ...\n",
              "1485        857  ...  entertainment\n",
              "1486        325  ...  entertainment\n",
              "1487       1590  ...       business\n",
              "1488       1587  ...           tech\n",
              "1489        538  ...           tech\n",
              "\n",
              "[1490 rows x 3 columns]"
            ]
          },
          "metadata": {}
        },
        {
          "output_type": "stream",
          "name": "stdout",
          "text": [
            "SHAPE OF DATASET:  (1490, 3) \n",
            "\n",
            "COLUMNS IN DATASET:  Index(['ArticleId', 'Text', 'Category'], dtype='object') \n",
            "\n",
            "CATEGORIES:  ['business' 'tech' 'politics' 'sport' 'entertainment'] \n",
            "\n",
            "\n",
            "Load file: /content/BBC News Test.csv\n"
          ]
        },
        {
          "output_type": "display_data",
          "data": {
            "text/html": [
              "\n",
              "  <div id=\"df-64c80e50-2fab-41ab-b77e-876cb48fa0da\">\n",
              "    <div class=\"colab-df-container\">\n",
              "      <div>\n",
              "<style scoped>\n",
              "    .dataframe tbody tr th:only-of-type {\n",
              "        vertical-align: middle;\n",
              "    }\n",
              "\n",
              "    .dataframe tbody tr th {\n",
              "        vertical-align: top;\n",
              "    }\n",
              "\n",
              "    .dataframe thead th {\n",
              "        text-align: right;\n",
              "    }\n",
              "</style>\n",
              "<table border=\"1\" class=\"dataframe\">\n",
              "  <thead>\n",
              "    <tr style=\"text-align: right;\">\n",
              "      <th></th>\n",
              "      <th>ArticleId</th>\n",
              "      <th>Text</th>\n",
              "      <th>Category</th>\n",
              "    </tr>\n",
              "  </thead>\n",
              "  <tbody>\n",
              "    <tr>\n",
              "      <th>0</th>\n",
              "      <td>1018</td>\n",
              "      <td>qpr keeper day heads for preston queens park r...</td>\n",
              "      <td>sport</td>\n",
              "    </tr>\n",
              "    <tr>\n",
              "      <th>1</th>\n",
              "      <td>1319</td>\n",
              "      <td>software watching while you work software that...</td>\n",
              "      <td>tech</td>\n",
              "    </tr>\n",
              "    <tr>\n",
              "      <th>2</th>\n",
              "      <td>1138</td>\n",
              "      <td>d arcy injury adds to ireland woe gordon d arc...</td>\n",
              "      <td>business</td>\n",
              "    </tr>\n",
              "    <tr>\n",
              "      <th>3</th>\n",
              "      <td>459</td>\n",
              "      <td>india s reliance family feud heats up the ongo...</td>\n",
              "      <td>entertainment</td>\n",
              "    </tr>\n",
              "    <tr>\n",
              "      <th>4</th>\n",
              "      <td>1020</td>\n",
              "      <td>boro suffer morrison injury blow middlesbrough...</td>\n",
              "      <td>politics</td>\n",
              "    </tr>\n",
              "    <tr>\n",
              "      <th>...</th>\n",
              "      <td>...</td>\n",
              "      <td>...</td>\n",
              "      <td>...</td>\n",
              "    </tr>\n",
              "    <tr>\n",
              "      <th>730</th>\n",
              "      <td>1923</td>\n",
              "      <td>eu to probe alitalia  state aid  the european ...</td>\n",
              "      <td>sport</td>\n",
              "    </tr>\n",
              "    <tr>\n",
              "      <th>731</th>\n",
              "      <td>373</td>\n",
              "      <td>u2 to play at grammy awards show irish rock ba...</td>\n",
              "      <td>tech</td>\n",
              "    </tr>\n",
              "    <tr>\n",
              "      <th>732</th>\n",
              "      <td>1704</td>\n",
              "      <td>sport betting rules in spotlight a group of mp...</td>\n",
              "      <td>business</td>\n",
              "    </tr>\n",
              "    <tr>\n",
              "      <th>733</th>\n",
              "      <td>206</td>\n",
              "      <td>alfa romeos  to get gm engines  fiat is to sto...</td>\n",
              "      <td>entertainment</td>\n",
              "    </tr>\n",
              "    <tr>\n",
              "      <th>734</th>\n",
              "      <td>471</td>\n",
              "      <td>citizenship event for 18s touted citizenship c...</td>\n",
              "      <td>politics</td>\n",
              "    </tr>\n",
              "  </tbody>\n",
              "</table>\n",
              "<p>735 rows × 3 columns</p>\n",
              "</div>\n",
              "      <button class=\"colab-df-convert\" onclick=\"convertToInteractive('df-64c80e50-2fab-41ab-b77e-876cb48fa0da')\"\n",
              "              title=\"Convert this dataframe to an interactive table.\"\n",
              "              style=\"display:none;\">\n",
              "        \n",
              "  <svg xmlns=\"http://www.w3.org/2000/svg\" height=\"24px\"viewBox=\"0 0 24 24\"\n",
              "       width=\"24px\">\n",
              "    <path d=\"M0 0h24v24H0V0z\" fill=\"none\"/>\n",
              "    <path d=\"M18.56 5.44l.94 2.06.94-2.06 2.06-.94-2.06-.94-.94-2.06-.94 2.06-2.06.94zm-11 1L8.5 8.5l.94-2.06 2.06-.94-2.06-.94L8.5 2.5l-.94 2.06-2.06.94zm10 10l.94 2.06.94-2.06 2.06-.94-2.06-.94-.94-2.06-.94 2.06-2.06.94z\"/><path d=\"M17.41 7.96l-1.37-1.37c-.4-.4-.92-.59-1.43-.59-.52 0-1.04.2-1.43.59L10.3 9.45l-7.72 7.72c-.78.78-.78 2.05 0 2.83L4 21.41c.39.39.9.59 1.41.59.51 0 1.02-.2 1.41-.59l7.78-7.78 2.81-2.81c.8-.78.8-2.07 0-2.86zM5.41 20L4 18.59l7.72-7.72 1.47 1.35L5.41 20z\"/>\n",
              "  </svg>\n",
              "      </button>\n",
              "      \n",
              "  <style>\n",
              "    .colab-df-container {\n",
              "      display:flex;\n",
              "      flex-wrap:wrap;\n",
              "      gap: 12px;\n",
              "    }\n",
              "\n",
              "    .colab-df-convert {\n",
              "      background-color: #E8F0FE;\n",
              "      border: none;\n",
              "      border-radius: 50%;\n",
              "      cursor: pointer;\n",
              "      display: none;\n",
              "      fill: #1967D2;\n",
              "      height: 32px;\n",
              "      padding: 0 0 0 0;\n",
              "      width: 32px;\n",
              "    }\n",
              "\n",
              "    .colab-df-convert:hover {\n",
              "      background-color: #E2EBFA;\n",
              "      box-shadow: 0px 1px 2px rgba(60, 64, 67, 0.3), 0px 1px 3px 1px rgba(60, 64, 67, 0.15);\n",
              "      fill: #174EA6;\n",
              "    }\n",
              "\n",
              "    [theme=dark] .colab-df-convert {\n",
              "      background-color: #3B4455;\n",
              "      fill: #D2E3FC;\n",
              "    }\n",
              "\n",
              "    [theme=dark] .colab-df-convert:hover {\n",
              "      background-color: #434B5C;\n",
              "      box-shadow: 0px 1px 3px 1px rgba(0, 0, 0, 0.15);\n",
              "      filter: drop-shadow(0px 1px 2px rgba(0, 0, 0, 0.3));\n",
              "      fill: #FFFFFF;\n",
              "    }\n",
              "  </style>\n",
              "\n",
              "      <script>\n",
              "        const buttonEl =\n",
              "          document.querySelector('#df-64c80e50-2fab-41ab-b77e-876cb48fa0da button.colab-df-convert');\n",
              "        buttonEl.style.display =\n",
              "          google.colab.kernel.accessAllowed ? 'block' : 'none';\n",
              "\n",
              "        async function convertToInteractive(key) {\n",
              "          const element = document.querySelector('#df-64c80e50-2fab-41ab-b77e-876cb48fa0da');\n",
              "          const dataTable =\n",
              "            await google.colab.kernel.invokeFunction('convertToInteractive',\n",
              "                                                     [key], {});\n",
              "          if (!dataTable) return;\n",
              "\n",
              "          const docLinkHtml = 'Like what you see? Visit the ' +\n",
              "            '<a target=\"_blank\" href=https://colab.research.google.com/notebooks/data_table.ipynb>data table notebook</a>'\n",
              "            + ' to learn more about interactive tables.';\n",
              "          element.innerHTML = '';\n",
              "          dataTable['output_type'] = 'display_data';\n",
              "          await google.colab.output.renderOutput(dataTable, element);\n",
              "          const docLink = document.createElement('div');\n",
              "          docLink.innerHTML = docLinkHtml;\n",
              "          element.appendChild(docLink);\n",
              "        }\n",
              "      </script>\n",
              "    </div>\n",
              "  </div>\n",
              "  "
            ],
            "text/plain": [
              "     ArticleId  ...       Category\n",
              "0         1018  ...          sport\n",
              "1         1319  ...           tech\n",
              "2         1138  ...       business\n",
              "3          459  ...  entertainment\n",
              "4         1020  ...       politics\n",
              "..         ...  ...            ...\n",
              "730       1923  ...          sport\n",
              "731        373  ...           tech\n",
              "732       1704  ...       business\n",
              "733        206  ...  entertainment\n",
              "734        471  ...       politics\n",
              "\n",
              "[735 rows x 3 columns]"
            ]
          },
          "metadata": {}
        },
        {
          "output_type": "stream",
          "name": "stdout",
          "text": [
            "SHAPE OF DATASET:  (735, 3) \n",
            "\n",
            "COLUMNS IN DATASET:  Index(['ArticleId', 'Text', 'Category'], dtype='object') \n",
            "\n",
            "CATEGORIES:  ['sport' 'tech' 'business' 'entertainment' 'politics'] \n",
            "\n",
            "\n"
          ]
        },
        {
          "output_type": "display_data",
          "data": {
            "text/html": [
              "\n",
              "  <div id=\"df-82ccccc0-d970-4ac2-b10f-d1ab277aaec5\">\n",
              "    <div class=\"colab-df-container\">\n",
              "      <div>\n",
              "<style scoped>\n",
              "    .dataframe tbody tr th:only-of-type {\n",
              "        vertical-align: middle;\n",
              "    }\n",
              "\n",
              "    .dataframe tbody tr th {\n",
              "        vertical-align: top;\n",
              "    }\n",
              "\n",
              "    .dataframe thead th {\n",
              "        text-align: right;\n",
              "    }\n",
              "</style>\n",
              "<table border=\"1\" class=\"dataframe\">\n",
              "  <thead>\n",
              "    <tr style=\"text-align: right;\">\n",
              "      <th></th>\n",
              "      <th>ArticleId</th>\n",
              "      <th>Text</th>\n",
              "      <th>Category</th>\n",
              "    </tr>\n",
              "  </thead>\n",
              "  <tbody>\n",
              "    <tr>\n",
              "      <th>0</th>\n",
              "      <td>1833</td>\n",
              "      <td>worldcom ex-boss launches defence lawyers defe...</td>\n",
              "      <td>business</td>\n",
              "    </tr>\n",
              "    <tr>\n",
              "      <th>1</th>\n",
              "      <td>154</td>\n",
              "      <td>german business confidence slides german busin...</td>\n",
              "      <td>business</td>\n",
              "    </tr>\n",
              "    <tr>\n",
              "      <th>2</th>\n",
              "      <td>1101</td>\n",
              "      <td>bbc poll indicates economic gloom citizens in ...</td>\n",
              "      <td>business</td>\n",
              "    </tr>\n",
              "    <tr>\n",
              "      <th>3</th>\n",
              "      <td>1976</td>\n",
              "      <td>lifestyle  governs mobile choice  faster  bett...</td>\n",
              "      <td>tech</td>\n",
              "    </tr>\n",
              "    <tr>\n",
              "      <th>4</th>\n",
              "      <td>917</td>\n",
              "      <td>enron bosses in $168m payout eighteen former e...</td>\n",
              "      <td>business</td>\n",
              "    </tr>\n",
              "    <tr>\n",
              "      <th>...</th>\n",
              "      <td>...</td>\n",
              "      <td>...</td>\n",
              "      <td>...</td>\n",
              "    </tr>\n",
              "    <tr>\n",
              "      <th>2220</th>\n",
              "      <td>1923</td>\n",
              "      <td>eu to probe alitalia  state aid  the european ...</td>\n",
              "      <td>sport</td>\n",
              "    </tr>\n",
              "    <tr>\n",
              "      <th>2221</th>\n",
              "      <td>373</td>\n",
              "      <td>u2 to play at grammy awards show irish rock ba...</td>\n",
              "      <td>tech</td>\n",
              "    </tr>\n",
              "    <tr>\n",
              "      <th>2222</th>\n",
              "      <td>1704</td>\n",
              "      <td>sport betting rules in spotlight a group of mp...</td>\n",
              "      <td>business</td>\n",
              "    </tr>\n",
              "    <tr>\n",
              "      <th>2223</th>\n",
              "      <td>206</td>\n",
              "      <td>alfa romeos  to get gm engines  fiat is to sto...</td>\n",
              "      <td>entertainment</td>\n",
              "    </tr>\n",
              "    <tr>\n",
              "      <th>2224</th>\n",
              "      <td>471</td>\n",
              "      <td>citizenship event for 18s touted citizenship c...</td>\n",
              "      <td>politics</td>\n",
              "    </tr>\n",
              "  </tbody>\n",
              "</table>\n",
              "<p>2225 rows × 3 columns</p>\n",
              "</div>\n",
              "      <button class=\"colab-df-convert\" onclick=\"convertToInteractive('df-82ccccc0-d970-4ac2-b10f-d1ab277aaec5')\"\n",
              "              title=\"Convert this dataframe to an interactive table.\"\n",
              "              style=\"display:none;\">\n",
              "        \n",
              "  <svg xmlns=\"http://www.w3.org/2000/svg\" height=\"24px\"viewBox=\"0 0 24 24\"\n",
              "       width=\"24px\">\n",
              "    <path d=\"M0 0h24v24H0V0z\" fill=\"none\"/>\n",
              "    <path d=\"M18.56 5.44l.94 2.06.94-2.06 2.06-.94-2.06-.94-.94-2.06-.94 2.06-2.06.94zm-11 1L8.5 8.5l.94-2.06 2.06-.94-2.06-.94L8.5 2.5l-.94 2.06-2.06.94zm10 10l.94 2.06.94-2.06 2.06-.94-2.06-.94-.94-2.06-.94 2.06-2.06.94z\"/><path d=\"M17.41 7.96l-1.37-1.37c-.4-.4-.92-.59-1.43-.59-.52 0-1.04.2-1.43.59L10.3 9.45l-7.72 7.72c-.78.78-.78 2.05 0 2.83L4 21.41c.39.39.9.59 1.41.59.51 0 1.02-.2 1.41-.59l7.78-7.78 2.81-2.81c.8-.78.8-2.07 0-2.86zM5.41 20L4 18.59l7.72-7.72 1.47 1.35L5.41 20z\"/>\n",
              "  </svg>\n",
              "      </button>\n",
              "      \n",
              "  <style>\n",
              "    .colab-df-container {\n",
              "      display:flex;\n",
              "      flex-wrap:wrap;\n",
              "      gap: 12px;\n",
              "    }\n",
              "\n",
              "    .colab-df-convert {\n",
              "      background-color: #E8F0FE;\n",
              "      border: none;\n",
              "      border-radius: 50%;\n",
              "      cursor: pointer;\n",
              "      display: none;\n",
              "      fill: #1967D2;\n",
              "      height: 32px;\n",
              "      padding: 0 0 0 0;\n",
              "      width: 32px;\n",
              "    }\n",
              "\n",
              "    .colab-df-convert:hover {\n",
              "      background-color: #E2EBFA;\n",
              "      box-shadow: 0px 1px 2px rgba(60, 64, 67, 0.3), 0px 1px 3px 1px rgba(60, 64, 67, 0.15);\n",
              "      fill: #174EA6;\n",
              "    }\n",
              "\n",
              "    [theme=dark] .colab-df-convert {\n",
              "      background-color: #3B4455;\n",
              "      fill: #D2E3FC;\n",
              "    }\n",
              "\n",
              "    [theme=dark] .colab-df-convert:hover {\n",
              "      background-color: #434B5C;\n",
              "      box-shadow: 0px 1px 3px 1px rgba(0, 0, 0, 0.15);\n",
              "      filter: drop-shadow(0px 1px 2px rgba(0, 0, 0, 0.3));\n",
              "      fill: #FFFFFF;\n",
              "    }\n",
              "  </style>\n",
              "\n",
              "      <script>\n",
              "        const buttonEl =\n",
              "          document.querySelector('#df-82ccccc0-d970-4ac2-b10f-d1ab277aaec5 button.colab-df-convert');\n",
              "        buttonEl.style.display =\n",
              "          google.colab.kernel.accessAllowed ? 'block' : 'none';\n",
              "\n",
              "        async function convertToInteractive(key) {\n",
              "          const element = document.querySelector('#df-82ccccc0-d970-4ac2-b10f-d1ab277aaec5');\n",
              "          const dataTable =\n",
              "            await google.colab.kernel.invokeFunction('convertToInteractive',\n",
              "                                                     [key], {});\n",
              "          if (!dataTable) return;\n",
              "\n",
              "          const docLinkHtml = 'Like what you see? Visit the ' +\n",
              "            '<a target=\"_blank\" href=https://colab.research.google.com/notebooks/data_table.ipynb>data table notebook</a>'\n",
              "            + ' to learn more about interactive tables.';\n",
              "          element.innerHTML = '';\n",
              "          dataTable['output_type'] = 'display_data';\n",
              "          await google.colab.output.renderOutput(dataTable, element);\n",
              "          const docLink = document.createElement('div');\n",
              "          docLink.innerHTML = docLinkHtml;\n",
              "          element.appendChild(docLink);\n",
              "        }\n",
              "      </script>\n",
              "    </div>\n",
              "  </div>\n",
              "  "
            ],
            "text/plain": [
              "      ArticleId  ...       Category\n",
              "0          1833  ...       business\n",
              "1           154  ...       business\n",
              "2          1101  ...       business\n",
              "3          1976  ...           tech\n",
              "4           917  ...       business\n",
              "...         ...  ...            ...\n",
              "2220       1923  ...          sport\n",
              "2221        373  ...           tech\n",
              "2222       1704  ...       business\n",
              "2223        206  ...  entertainment\n",
              "2224        471  ...       politics\n",
              "\n",
              "[2225 rows x 3 columns]"
            ]
          },
          "metadata": {}
        }
      ]
    },
    {
      "cell_type": "code",
      "source": [
        "sns.countplot(all_data['Category'])"
      ],
      "metadata": {
        "colab": {
          "base_uri": "https://localhost:8080/",
          "height": 297
        },
        "id": "gtoXILtTaKXz",
        "outputId": "3ab52dec-aeef-4ad2-c1d6-a5547a77a1a3"
      },
      "execution_count": 7,
      "outputs": [
        {
          "output_type": "execute_result",
          "data": {
            "text/plain": [
              "<matplotlib.axes._subplots.AxesSubplot at 0x7f800c8dc690>"
            ]
          },
          "metadata": {},
          "execution_count": 7
        },
        {
          "output_type": "display_data",
          "data": {
            "image/png": "[encoded data removed]",
            "text/plain": [
              "<Figure size 432x288 with 1 Axes>"
            ]
          },
          "metadata": {
            "needs_background": "light"
          }
        }
      ]
    },
    {
      "cell_type": "markdown",
      "source": [
        "##Normalize"
      ],
      "metadata": {
        "id": "sls5zlMBAKF7"
      }
    },
    {
      "cell_type": "code",
      "source": [
        "def normalize(all_data):\n",
        "  # DATA CLEANING\n",
        "  print('Data cleaning in progress\\n.\\n..\\n...')\n",
        "  #Tf-idf\n",
        "  #make all test lowercase\n",
        "  #normalize with norm l2\n",
        "  #removes stop_words\n",
        "  #uses unigram\n",
        "  tf_idf=TfidfVectorizer(stop_words=\"english\",norm='l2',lowercase=True,ngram_range=(1, 1))\n",
        "  #PorterStemmer\n",
        "  ps=PorterStemmer()\n",
        "  #LabelEncoder toEncode label categories to numbers\n",
        "  enc = LabelEncoder()\n",
        "  all_data[\"Cleaned\"]=all_data['Text'].copy()\n",
        "  all_data[\"Cleaned\"]=all_data[\"Cleaned\"].apply(lambda x:' '.join([ps.stem(item) for item in x.split(' ')]))\n",
        "  display(all_data)\n",
        "  #Split 75-25\n",
        "  X_train, X_test, y_train, y_test=train_test_split(all_data['Text'],all_data['Category'], test_size=0.25)\n",
        "  \n",
        "  Y_train = enc.fit_transform(y_train)\n",
        "  print(list(enc.classes_))\n",
        "  X_train=[ps.stem(item) for item in X_train]\n",
        "  X_train_vec=tf_idf.fit_transform(X_train)\n",
        "\n",
        "  Y_test = enc.transform(y_test)\n",
        "  X_test=[ps.stem(item) for item in X_test]\n",
        "  X_test_vec=tf_idf.transform(X_test)\n",
        "\n",
        "\n",
        "  return X_train_vec,Y_train,X_test_vec,Y_test"
      ],
      "metadata": {
        "id": "8pLh8_vQ93SL"
      },
      "execution_count": 8,
      "outputs": []
    },
    {
      "cell_type": "code",
      "source": [
        "# X_train_vec,Y_train,X_test_vec,Y_test=normalize(X_train, X_test, y_train, y_test)\n",
        "X_train_vec,Y_train,X_test_vec,Y_test=normalize(all_data)\n",
        "# print(X_train_vec)\n",
        "# print(Y_train)\n",
        "# print(X_test_vec)\n",
        "# print(Y_test)"
      ],
      "metadata": {
        "colab": {
          "base_uri": "https://localhost:8080/",
          "height": 516
        },
        "id": "ugl8IaoJ_gw7",
        "outputId": "34d32c42-bbb7-4d85-b271-5a74c03bb15a"
      },
      "execution_count": 9,
      "outputs": [
        {
          "output_type": "stream",
          "name": "stdout",
          "text": [
            "Data cleaning in progress\n",
            ".\n",
            "..\n",
            "...\n"
          ]
        },
        {
          "output_type": "display_data",
          "data": {
            "text/html": [
              "\n",
              "  <div id=\"df-9cf4f427-eebf-41ad-b821-4172884426fd\">\n",
              "    <div class=\"colab-df-container\">\n",
              "      <div>\n",
              "<style scoped>\n",
              "    .dataframe tbody tr th:only-of-type {\n",
              "        vertical-align: middle;\n",
              "    }\n",
              "\n",
              "    .dataframe tbody tr th {\n",
              "        vertical-align: top;\n",
              "    }\n",
              "\n",
              "    .dataframe thead th {\n",
              "        text-align: right;\n",
              "    }\n",
              "</style>\n",
              "<table border=\"1\" class=\"dataframe\">\n",
              "  <thead>\n",
              "    <tr style=\"text-align: right;\">\n",
              "      <th></th>\n",
              "      <th>ArticleId</th>\n",
              "      <th>Text</th>\n",
              "      <th>Category</th>\n",
              "      <th>Cleaned</th>\n",
              "    </tr>\n",
              "  </thead>\n",
              "  <tbody>\n",
              "    <tr>\n",
              "      <th>0</th>\n",
              "      <td>1833</td>\n",
              "      <td>worldcom ex-boss launches defence lawyers defe...</td>\n",
              "      <td>business</td>\n",
              "      <td>worldcom ex-boss launch defenc lawyer defend f...</td>\n",
              "    </tr>\n",
              "    <tr>\n",
              "      <th>1</th>\n",
              "      <td>154</td>\n",
              "      <td>german business confidence slides german busin...</td>\n",
              "      <td>business</td>\n",
              "      <td>german busi confid slide german busi confid fe...</td>\n",
              "    </tr>\n",
              "    <tr>\n",
              "      <th>2</th>\n",
              "      <td>1101</td>\n",
              "      <td>bbc poll indicates economic gloom citizens in ...</td>\n",
              "      <td>business</td>\n",
              "      <td>bbc poll indic econom gloom citizen in a major...</td>\n",
              "    </tr>\n",
              "    <tr>\n",
              "      <th>3</th>\n",
              "      <td>1976</td>\n",
              "      <td>lifestyle  governs mobile choice  faster  bett...</td>\n",
              "      <td>tech</td>\n",
              "      <td>lifestyl  govern mobil choic  faster  better o...</td>\n",
              "    </tr>\n",
              "    <tr>\n",
              "      <th>4</th>\n",
              "      <td>917</td>\n",
              "      <td>enron bosses in $168m payout eighteen former e...</td>\n",
              "      <td>business</td>\n",
              "      <td>enron boss in $168m payout eighteen former enr...</td>\n",
              "    </tr>\n",
              "    <tr>\n",
              "      <th>...</th>\n",
              "      <td>...</td>\n",
              "      <td>...</td>\n",
              "      <td>...</td>\n",
              "      <td>...</td>\n",
              "    </tr>\n",
              "    <tr>\n",
              "      <th>2220</th>\n",
              "      <td>1923</td>\n",
              "      <td>eu to probe alitalia  state aid  the european ...</td>\n",
              "      <td>sport</td>\n",
              "      <td>eu to probe alitalia  state aid  the european ...</td>\n",
              "    </tr>\n",
              "    <tr>\n",
              "      <th>2221</th>\n",
              "      <td>373</td>\n",
              "      <td>u2 to play at grammy awards show irish rock ba...</td>\n",
              "      <td>tech</td>\n",
              "      <td>u2 to play at grammi award show irish rock ban...</td>\n",
              "    </tr>\n",
              "    <tr>\n",
              "      <th>2222</th>\n",
              "      <td>1704</td>\n",
              "      <td>sport betting rules in spotlight a group of mp...</td>\n",
              "      <td>business</td>\n",
              "      <td>sport bet rule in spotlight a group of mp and ...</td>\n",
              "    </tr>\n",
              "    <tr>\n",
              "      <th>2223</th>\n",
              "      <td>206</td>\n",
              "      <td>alfa romeos  to get gm engines  fiat is to sto...</td>\n",
              "      <td>entertainment</td>\n",
              "      <td>alfa romeo  to get gm engin  fiat is to stop m...</td>\n",
              "    </tr>\n",
              "    <tr>\n",
              "      <th>2224</th>\n",
              "      <td>471</td>\n",
              "      <td>citizenship event for 18s touted citizenship c...</td>\n",
              "      <td>politics</td>\n",
              "      <td>citizenship event for 18 tout citizenship cere...</td>\n",
              "    </tr>\n",
              "  </tbody>\n",
              "</table>\n",
              "<p>2225 rows × 4 columns</p>\n",
              "</div>\n",
              "      <button class=\"colab-df-convert\" onclick=\"convertToInteractive('df-9cf4f427-eebf-41ad-b821-4172884426fd')\"\n",
              "              title=\"Convert this dataframe to an interactive table.\"\n",
              "              style=\"display:none;\">\n",
              "        \n",
              "  <svg xmlns=\"http://www.w3.org/2000/svg\" height=\"24px\"viewBox=\"0 0 24 24\"\n",
              "       width=\"24px\">\n",
              "    <path d=\"M0 0h24v24H0V0z\" fill=\"none\"/>\n",
              "    <path d=\"M18.56 5.44l.94 2.06.94-2.06 2.06-.94-2.06-.94-.94-2.06-.94 2.06-2.06.94zm-11 1L8.5 8.5l.94-2.06 2.06-.94-2.06-.94L8.5 2.5l-.94 2.06-2.06.94zm10 10l.94 2.06.94-2.06 2.06-.94-2.06-.94-.94-2.06-.94 2.06-2.06.94z\"/><path d=\"M17.41 7.96l-1.37-1.37c-.4-.4-.92-.59-1.43-.59-.52 0-1.04.2-1.43.59L10.3 9.45l-7.72 7.72c-.78.78-.78 2.05 0 2.83L4 21.41c.39.39.9.59 1.41.59.51 0 1.02-.2 1.41-.59l7.78-7.78 2.81-2.81c.8-.78.8-2.07 0-2.86zM5.41 20L4 18.59l7.72-7.72 1.47 1.35L5.41 20z\"/>\n",
              "  </svg>\n",
              "      </button>\n",
              "      \n",
              "  <style>\n",
              "    .colab-df-container {\n",
              "      display:flex;\n",
              "      flex-wrap:wrap;\n",
              "      gap: 12px;\n",
              "    }\n",
              "\n",
              "    .colab-df-convert {\n",
              "      background-color: #E8F0FE;\n",
              "      border: none;\n",
              "      border-radius: 50%;\n",
              "      cursor: pointer;\n",
              "      display: none;\n",
              "      fill: #1967D2;\n",
              "      height: 32px;\n",
              "      padding: 0 0 0 0;\n",
              "      width: 32px;\n",
              "    }\n",
              "\n",
              "    .colab-df-convert:hover {\n",
              "      background-color: #E2EBFA;\n",
              "      box-shadow: 0px 1px 2px rgba(60, 64, 67, 0.3), 0px 1px 3px 1px rgba(60, 64, 67, 0.15);\n",
              "      fill: #174EA6;\n",
              "    }\n",
              "\n",
              "    [theme=dark] .colab-df-convert {\n",
              "      background-color: #3B4455;\n",
              "      fill: #D2E3FC;\n",
              "    }\n",
              "\n",
              "    [theme=dark] .colab-df-convert:hover {\n",
              "      background-color: #434B5C;\n",
              "      box-shadow: 0px 1px 3px 1px rgba(0, 0, 0, 0.15);\n",
              "      filter: drop-shadow(0px 1px 2px rgba(0, 0, 0, 0.3));\n",
              "      fill: #FFFFFF;\n",
              "    }\n",
              "  </style>\n",
              "\n",
              "      <script>\n",
              "        const buttonEl =\n",
              "          document.querySelector('#df-9cf4f427-eebf-41ad-b821-4172884426fd button.colab-df-convert');\n",
              "        buttonEl.style.display =\n",
              "          google.colab.kernel.accessAllowed ? 'block' : 'none';\n",
              "\n",
              "        async function convertToInteractive(key) {\n",
              "          const element = document.querySelector('#df-9cf4f427-eebf-41ad-b821-4172884426fd');\n",
              "          const dataTable =\n",
              "            await google.colab.kernel.invokeFunction('convertToInteractive',\n",
              "                                                     [key], {});\n",
              "          if (!dataTable) return;\n",
              "\n",
              "          const docLinkHtml = 'Like what you see? Visit the ' +\n",
              "            '<a target=\"_blank\" href=https://colab.research.google.com/notebooks/data_table.ipynb>data table notebook</a>'\n",
              "            + ' to learn more about interactive tables.';\n",
              "          element.innerHTML = '';\n",
              "          dataTable['output_type'] = 'display_data';\n",
              "          await google.colab.output.renderOutput(dataTable, element);\n",
              "          const docLink = document.createElement('div');\n",
              "          docLink.innerHTML = docLinkHtml;\n",
              "          element.appendChild(docLink);\n",
              "        }\n",
              "      </script>\n",
              "    </div>\n",
              "  </div>\n",
              "  "
            ],
            "text/plain": [
              "      ArticleId  ...                                            Cleaned\n",
              "0          1833  ...  worldcom ex-boss launch defenc lawyer defend f...\n",
              "1           154  ...  german busi confid slide german busi confid fe...\n",
              "2          1101  ...  bbc poll indic econom gloom citizen in a major...\n",
              "3          1976  ...  lifestyl  govern mobil choic  faster  better o...\n",
              "4           917  ...  enron boss in $168m payout eighteen former enr...\n",
              "...         ...  ...                                                ...\n",
              "2220       1923  ...  eu to probe alitalia  state aid  the european ...\n",
              "2221        373  ...  u2 to play at grammi award show irish rock ban...\n",
              "2222       1704  ...  sport bet rule in spotlight a group of mp and ...\n",
              "2223        206  ...  alfa romeo  to get gm engin  fiat is to stop m...\n",
              "2224        471  ...  citizenship event for 18 tout citizenship cere...\n",
              "\n",
              "[2225 rows x 4 columns]"
            ]
          },
          "metadata": {}
        },
        {
          "output_type": "stream",
          "name": "stdout",
          "text": [
            "['business', 'entertainment', 'politics', 'sport', 'tech']\n"
          ]
        }
      ]
    },
    {
      "cell_type": "markdown",
      "source": [
        "# **Logistic regression**"
      ],
      "metadata": {
        "id": "MQGWc1FXIuXW"
      }
    },
    {
      "cell_type": "code",
      "source": [
        "def report(Y_test, y_pred_test):\n",
        "  tmp=classification_report(Y_test, y_pred_test,output_dict=True)\n",
        "  tmp_keys,tmp_values=tmp.keys(),list(tmp.values())\n",
        "  # print(tmp_values)\n",
        "  res_dict={}\n",
        "  res_dict['Business']=tmp_values[0]\n",
        "  res_dict['Entertainment']=tmp_values[1]\n",
        "  res_dict['Politics']=tmp_values[2]\n",
        "  res_dict['Sport']=tmp_values[3]\n",
        "  res_dict['Tech']=tmp_values[4]\n",
        "  return res_dict"
      ],
      "metadata": {
        "id": "NVpCArp2MAdC"
      },
      "execution_count": 10,
      "outputs": []
    },
    {
      "cell_type": "code",
      "source": [
        "from sklearn.linear_model import LogisticRegression\n",
        "from sklearn.metrics import classification_report\n",
        "from sklearn.metrics import confusion_matrix, ConfusionMatrixDisplay\n",
        "\n",
        "logmodel = LogisticRegression()\n",
        "logmodel.fit(X_train_vec,Y_train)\n",
        "\n",
        "predictions = logmodel.predict(X_test_vec)\n",
        "\n",
        "print(classification_report(Y_test,predictions))\n",
        "cm = confusion_matrix(Y_test, predictions, labels=logmodel.classes_)\n",
        "disp = ConfusionMatrixDisplay(confusion_matrix=cm,display_labels=logmodel.classes_)\n",
        "disp.plot()\n",
        "plt.show()"
      ],
      "metadata": {
        "colab": {
          "base_uri": "https://localhost:8080/",
          "height": 503
        },
        "id": "EW8RYYBfJHc0",
        "outputId": "b5c33ce6-7711-4bb4-ca6a-45dd61a9def9"
      },
      "execution_count": 11,
      "outputs": [
        {
          "output_type": "stream",
          "name": "stdout",
          "text": [
            "              precision    recall  f1-score   support\n",
            "\n",
            "           0       0.66      0.74      0.70       121\n",
            "           1       0.77      0.67      0.72       102\n",
            "           2       0.65      0.65      0.65        98\n",
            "           3       0.73      0.77      0.75       132\n",
            "           4       0.74      0.68      0.71       104\n",
            "\n",
            "    accuracy                           0.71       557\n",
            "   macro avg       0.71      0.70      0.70       557\n",
            "weighted avg       0.71      0.71      0.71       557\n",
            "\n"
          ]
        },
        {
          "output_type": "display_data",
          "data": {
            "image/png": "[encoded data removed]",
            "text/plain": [
              "<Figure size 432x288 with 2 Axes>"
            ]
          },
          "metadata": {
            "needs_background": "light"
          }
        }
      ]
    },
    {
      "cell_type": "code",
      "source": [
        "lr_dict=report(Y_test, predictions)\n",
        "print(lr_dict)"
      ],
      "metadata": {
        "colab": {
          "base_uri": "https://localhost:8080/"
        },
        "id": "iG4O1HW5Od3y",
        "outputId": "511d4f11-b81f-4817-8cd6-f4d0086fd0f1"
      },
      "execution_count": 12,
      "outputs": [
        {
          "output_type": "stream",
          "name": "stdout",
          "text": [
            "{'Business': {'precision': 0.6617647058823529, 'recall': 0.743801652892562, 'f1-score': 0.7003891050583657, 'support': 121}, 'Entertainment': {'precision': 0.7727272727272727, 'recall': 0.6666666666666666, 'f1-score': 0.7157894736842105, 'support': 102}, 'Politics': {'precision': 0.6464646464646465, 'recall': 0.6530612244897959, 'f1-score': 0.649746192893401, 'support': 98}, 'Sport': {'precision': 0.7318840579710145, 'recall': 0.7651515151515151, 'f1-score': 0.7481481481481481, 'support': 132}, 'Tech': {'precision': 0.7395833333333334, 'recall': 0.6826923076923077, 'f1-score': 0.7100000000000002, 'support': 104}}\n"
          ]
        }
      ]
    },
    {
      "cell_type": "markdown",
      "source": [
        "# **Random Forest**"
      ],
      "metadata": {
        "id": "31Fi1_0bJSWN"
      }
    },
    {
      "cell_type": "code",
      "source": [
        "from sklearn.ensemble import RandomForestClassifier\n",
        "from sklearn.metrics import accuracy_score, confusion_matrix, classification_report\n",
        "forest = RandomForestClassifier()\n",
        "forest.fit(X_train_vec, Y_train)\n",
        "y_pred_test = forest.predict(X_test_vec)\n",
        "accuracy_score(Y_test, y_pred_test)\n",
        "confusion_matrix(Y_test, y_pred_test)\n",
        "print(classification_report(Y_test, y_pred_test))\n",
        "cm = confusion_matrix(Y_test, y_pred_test, labels=forest.classes_)\n",
        "disp = ConfusionMatrixDisplay(confusion_matrix=cm,display_labels=forest.classes_)\n",
        "disp.plot()\n",
        "plt.show()"
      ],
      "metadata": {
        "colab": {
          "base_uri": "https://localhost:8080/",
          "height": 505
        },
        "id": "DMQ-kk8p4wO-",
        "outputId": "0ad846ed-bd9a-49ab-cf7d-7927dab0f49f"
      },
      "execution_count": 13,
      "outputs": [
        {
          "output_type": "stream",
          "name": "stdout",
          "text": [
            "              precision    recall  f1-score   support\n",
            "\n",
            "           0       0.67      0.74      0.70       121\n",
            "           1       0.76      0.64      0.70       102\n",
            "           2       0.64      0.66      0.65        98\n",
            "           3       0.70      0.76      0.73       132\n",
            "           4       0.74      0.66      0.70       104\n",
            "\n",
            "    accuracy                           0.70       557\n",
            "   macro avg       0.70      0.69      0.70       557\n",
            "weighted avg       0.70      0.70      0.70       557\n",
            "\n"
          ]
        },
        {
          "output_type": "display_data",
          "data": {
            "image/png": "[encoded data removed]",
            "text/plain": [
              "<Figure size 432x288 with 2 Axes>"
            ]
          },
          "metadata": {
            "needs_background": "light"
          }
        }
      ]
    },
    {
      "cell_type": "code",
      "source": [
        "rf_dict=report(Y_test, y_pred_test)\n",
        "print(rf_dict)"
      ],
      "metadata": {
        "colab": {
          "base_uri": "https://localhost:8080/"
        },
        "id": "T1sF1kr8MXoL",
        "outputId": "6e32bf8c-5c12-4b82-a896-9d3dfad3752a"
      },
      "execution_count": 14,
      "outputs": [
        {
          "output_type": "stream",
          "name": "stdout",
          "text": [
            "{'Business': {'precision': 0.6666666666666666, 'recall': 0.743801652892562, 'f1-score': 0.7031249999999999, 'support': 121}, 'Entertainment': {'precision': 0.7647058823529411, 'recall': 0.6372549019607843, 'f1-score': 0.6951871657754011, 'support': 102}, 'Politics': {'precision': 0.6372549019607843, 'recall': 0.6632653061224489, 'f1-score': 0.6499999999999999, 'support': 98}, 'Sport': {'precision': 0.704225352112676, 'recall': 0.7575757575757576, 'f1-score': 0.7299270072992701, 'support': 132}, 'Tech': {'precision': 0.7419354838709677, 'recall': 0.6634615384615384, 'f1-score': 0.7005076142131978, 'support': 104}}\n"
          ]
        }
      ]
    },
    {
      "cell_type": "markdown",
      "source": [
        "# ***KNN***"
      ],
      "metadata": {
        "id": "bIjck-cghVIk"
      }
    },
    {
      "cell_type": "code",
      "source": [
        "from sklearn.neighbors import KNeighborsClassifier\n",
        "from sklearn.metrics import classification_report\n",
        "knn = KNeighborsClassifier(n_neighbors=20)\n",
        " \n",
        "knn.fit(X_train_vec, Y_train)\n",
        " \n",
        "# Predict on dataset which model has not seen before\n",
        "pred = knn.predict(X_test_vec)\n",
        "print(classification_report(Y_test,pred))\n",
        "cm = confusion_matrix(Y_test, pred, labels=knn.classes_)\n",
        "disp = ConfusionMatrixDisplay(confusion_matrix=cm,display_labels=knn.classes_)\n",
        "disp.plot()\n",
        "plt.show()"
      ],
      "metadata": {
        "colab": {
          "base_uri": "https://localhost:8080/",
          "height": 503
        },
        "id": "m2NJFGopjTeW",
        "outputId": "fa1328bf-4809-4bf2-d842-8a52816aebe2"
      },
      "execution_count": 15,
      "outputs": [
        {
          "output_type": "stream",
          "name": "stdout",
          "text": [
            "              precision    recall  f1-score   support\n",
            "\n",
            "           0       0.67      0.73      0.70       121\n",
            "           1       0.78      0.65      0.71       102\n",
            "           2       0.64      0.66      0.65        98\n",
            "           3       0.73      0.77      0.75       132\n",
            "           4       0.70      0.67      0.69       104\n",
            "\n",
            "    accuracy                           0.70       557\n",
            "   macro avg       0.70      0.70      0.70       557\n",
            "weighted avg       0.70      0.70      0.70       557\n",
            "\n"
          ]
        },
        {
          "output_type": "display_data",
          "data": {
            "image/png": "[encoded data removed]",
            "text/plain": [
              "<Figure size 432x288 with 2 Axes>"
            ]
          },
          "metadata": {
            "needs_background": "light"
          }
        }
      ]
    },
    {
      "cell_type": "code",
      "source": [
        "knn_dict=report(Y_test, pred)\n",
        "print(knn_dict)"
      ],
      "metadata": {
        "colab": {
          "base_uri": "https://localhost:8080/"
        },
        "id": "AsdYNjsZOENs",
        "outputId": "7946e9b0-e17f-435b-d946-5b789531fd14"
      },
      "execution_count": 16,
      "outputs": [
        {
          "output_type": "stream",
          "name": "stdout",
          "text": [
            "{'Business': {'precision': 0.6666666666666666, 'recall': 0.7272727272727273, 'f1-score': 0.6956521739130435, 'support': 121}, 'Entertainment': {'precision': 0.7764705882352941, 'recall': 0.6470588235294118, 'f1-score': 0.7058823529411765, 'support': 102}, 'Politics': {'precision': 0.6372549019607843, 'recall': 0.6632653061224489, 'f1-score': 0.6499999999999999, 'support': 98}, 'Sport': {'precision': 0.7318840579710145, 'recall': 0.7651515151515151, 'f1-score': 0.7481481481481481, 'support': 132}, 'Tech': {'precision': 0.7, 'recall': 0.6730769230769231, 'f1-score': 0.6862745098039216, 'support': 104}}\n"
          ]
        }
      ]
    },
    {
      "cell_type": "markdown",
      "source": [
        "#Result analyze"
      ],
      "metadata": {
        "id": "Y44YUV3jIL6L"
      }
    },
    {
      "cell_type": "code",
      "source": [
        "import numpy as np\n",
        "import matplotlib.pyplot as plt\n",
        "def plot_data(key):\n",
        "  rf_list=[rf_dict[item][key] for item in list(rf_dict.keys())]\n",
        "  lr_list=[lr_dict[item][key] for item in list(lr_dict.keys())]\n",
        "  knn_list=[knn_dict[item][key] for item in list(knn_dict.keys())]\n",
        "  # data\n",
        "  rf_dic = {'Business':rf_list[0], 'Entertainment':rf_list[1], 'Politics':rf_list[2], 'Sport':rf_list[3], 'Tech': rf_list[4]}\n",
        "  lr_dic = {'Business':lr_list[0], 'Entertainment':lr_list[1], 'Politics':lr_list[2], 'Sport':lr_list[3], 'Tech': lr_list[4]}\n",
        "  knn_dic = {'Business':knn_list[0], 'Entertainment':knn_list[1], 'Politics':knn_list[2], 'Sport':knn_list[3], 'Tech': knn_list[4]}\n",
        "\n",
        "  X = np.arange(len(rf_dic))\n",
        "  ax = plt.subplot(111)\n",
        "  ax.bar(X, rf_dic.values(), width=0.2, color='b', align='center')\n",
        "  ax.bar(X-0.2, lr_dic.values(), width=0.2, color='g', align='center')\n",
        "  ax.bar(X+0.2, knn_dic.values(), width=0.2, color='r', align='center')\n",
        "  ax.legend(('Logestic Regression','Random Forest','k-NN'))\n",
        "  plt.xticks(X, rf_dic.keys())\n",
        "  plt.title(key, fontsize=17)\n",
        "  plt.show()"
      ],
      "metadata": {
        "id": "9NBJbaEJRk8E"
      },
      "execution_count": 18,
      "outputs": []
    },
    {
      "cell_type": "code",
      "source": [
        "plot_data('f1-score')\n",
        "plot_data('recall')\n",
        "plot_data('support')\n",
        "plot_data('precision')"
      ],
      "metadata": {
        "colab": {
          "base_uri": "https://localhost:8080/",
          "height": 1000
        },
        "id": "jkUPkOHLWRE7",
        "outputId": "475e2e7d-b562-4eaf-8275-b87be7efff54"
      },
      "execution_count": 19,
      "outputs": [
        {
          "output_type": "display_data",
          "data": {
            "image/png": "[encoded data removed]",
            "text/plain": [
              "<Figure size 432x288 with 1 Axes>"
            ]
          },
          "metadata": {
            "needs_background": "light"
          }
        },
        {
          "output_type": "display_data",
          "data": {
            "image/png": "[encoded data removed]",
            "text/plain": [
              "<Figure size 432x288 with 1 Axes>"
            ]
          },
          "metadata": {
            "needs_background": "light"
          }
        },
        {
          "output_type": "display_data",
          "data": {
            "image/png": "[encoded data removed]",
            "text/plain": [
              "<Figure size 432x288 with 1 Axes>"
            ]
          },
          "metadata": {
            "needs_background": "light"
          }
        },
        {
          "output_type": "display_data",
          "data": {
            "image/png": "[encoded data removed]",
            "text/plain": [
              "<Figure size 432x288 with 1 Axes>"
            ]
          },
          "metadata": {
            "needs_background": "light"
          }
        }
      ]
    },
    {
      "cell_type": "code",
      "source": [
        "from sklearn.metrics import confusion_matrix\n",
        "import numpy as np\n",
        "def get_accuracy(y_test,y_predict):\n",
        "  # Get the confusion matrix\n",
        "  cm = confusion_matrix(y_test, y_predict)\n",
        "\n",
        "  # We will store the results in a dictionary for easy access later\n",
        "  per_class_accuracies = {}\n",
        "\n",
        "  # Calculate the accuracy for each one of our classes\n",
        "  for idx, cls in enumerate([0,1,2,3,4]):\n",
        "    # True negatives are all the samples that are not our current GT class (not the current row) \n",
        "    # and were not predicted as the current class (not the current column)\n",
        "    true_negatives = np.sum(np.delete(np.delete(cm, idx, axis=0), idx, axis=1))\n",
        "    \n",
        "    # True positives are all the samples of our current GT class that were predicted as such\n",
        "    true_positives = cm[idx, idx]\n",
        "    \n",
        "    # The accuracy for the current class is ratio between correct predictions to all predictions\n",
        "    per_class_accuracies[cls] = ((true_positives + true_negatives) / np.sum(cm))*100\n",
        "  return per_class_accuracies\n"
      ],
      "metadata": {
        "id": "RKayn0irVnMV"
      },
      "execution_count": 20,
      "outputs": []
    },
    {
      "cell_type": "code",
      "source": [
        "def plot_accuracy():\n",
        "  rf_list=get_accuracy(Y_test,y_pred_test)\n",
        "  lr_list=get_accuracy(Y_test,predictions)\n",
        "  knn_list=get_accuracy(Y_test,pred)\n",
        "  # data\n",
        "  rf_dic = {'Business':rf_list[0], 'Entertainment':rf_list[1], 'Politics':rf_list[2], 'Sport':rf_list[3], 'Tech': rf_list[4]}\n",
        "  lr_dic = {'Business':lr_list[0], 'Entertainment':lr_list[1], 'Politics':lr_list[2], 'Sport':lr_list[3], 'Tech': lr_list[4]}\n",
        "  knn_dic = {'Business':knn_list[0], 'Entertainment':knn_list[1], 'Politics':knn_list[2], 'Sport':knn_list[3], 'Tech': knn_list[4]}\n",
        "\n",
        "  X = np.arange(len(rf_dic))\n",
        "  ax = plt.subplot(111)\n",
        "  ax.bar(X, rf_dic.values(), width=0.2, color='b', align='center')\n",
        "  ax.bar(X-0.2, lr_dic.values(), width=0.2, color='g', align='center')\n",
        "  ax.bar(X+0.2, knn_dic.values(), width=0.2, color='r', align='center')\n",
        "  ax.legend(('Logestic Regression','Random Forest','k-NN'))\n",
        "  plt.xticks(X, rf_dic.keys())\n",
        "  plt.title(\"accuracy\", fontsize=17)\n",
        "  plt.show()"
      ],
      "metadata": {
        "id": "FBkJK5lfmjJS"
      },
      "execution_count": 21,
      "outputs": []
    },
    {
      "cell_type": "code",
      "source": [
        "plot_accuracy()"
      ],
      "metadata": {
        "colab": {
          "base_uri": "https://localhost:8080/",
          "height": 285
        },
        "id": "_RC1UbLHnR12",
        "outputId": "47a5316a-48fe-462d-eba3-3fb9937055f4"
      },
      "execution_count": 22,
      "outputs": [
        {
          "output_type": "display_data",
          "data": {
            "image/png": "[encoded data removed]",
            "text/plain": [
              "<Figure size 432x288 with 1 Axes>"
            ]
          },
          "metadata": {
            "needs_background": "light"
          }
        }
      ]
    }
  ]
}